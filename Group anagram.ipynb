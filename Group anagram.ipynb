{
 "cells": [
  {
   "cell_type": "code",
   "execution_count": 9,
   "metadata": {},
   "outputs": [
    {
     "name": "stdout",
     "output_type": "stream",
     "text": [
      "[['eat', 'tea', 'ate'], ['tan', 'nat'], ['bat']]\n"
     ]
    }
   ],
   "source": [
    "\n",
    "def groupAnagrams(input_word_list):\n",
    "    dic = {}\n",
    "    for w in input_word_list:\n",
    "        s_w = ''.join(sorted(w))\n",
    "        if s_w  not in dic:\n",
    "            dic[s_w] = [w]\n",
    "        else:\n",
    "            dic[s_w].append(w)\n",
    "\n",
    "    group_anagram = []\n",
    "\n",
    "    for i in dic.values():\n",
    "        group_anagram.append(i)\n",
    "            \n",
    "    return group_anagram\n",
    "\n",
    "input_word_list = [\"eat\", \"tea\", \"tan\", \"ate\", \"nat\", \"bat\"]\n",
    "print(groupAnagrams(input_word_list))"
   ]
  },
  {
   "cell_type": "code",
   "execution_count": null,
   "metadata": {},
   "outputs": [],
   "source": []
  }
 ],
 "metadata": {
  "kernelspec": {
   "display_name": "Python 3",
   "language": "python",
   "name": "python3"
  },
  "language_info": {
   "codemirror_mode": {
    "name": "ipython",
    "version": 3
   },
   "file_extension": ".py",
   "mimetype": "text/x-python",
   "name": "python",
   "nbconvert_exporter": "python",
   "pygments_lexer": "ipython3",
   "version": "3.7.4"
  }
 },
 "nbformat": 4,
 "nbformat_minor": 2
}
